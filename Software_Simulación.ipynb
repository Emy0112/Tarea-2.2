{
  "nbformat": 4,
  "nbformat_minor": 0,
  "metadata": {
    "colab": {
      "provenance": [],
      "authorship_tag": "ABX9TyNhFDa2XjLkMvFrsm36gVs8",
      "include_colab_link": true
    },
    "kernelspec": {
      "name": "python3",
      "display_name": "Python 3"
    },
    "language_info": {
      "name": "python"
    }
  },
  "cells": [
    {
      "cell_type": "markdown",
      "metadata": {
        "id": "view-in-github",
        "colab_type": "text"
      },
      "source": [
        "<a href=\"https://colab.research.google.com/github/Emy0112/Tarea-2.2/blob/main/Software_Simulaci%C3%B3n.ipynb\" target=\"_parent\"><img src=\"https://colab.research.google.com/assets/colab-badge.svg\" alt=\"Open In Colab\"/></a>"
      ]
    },
    {
      "cell_type": "code",
      "execution_count": 5,
      "metadata": {
        "colab": {
          "base_uri": "https://localhost:8080/"
        },
        "id": "Tk40a0Q9FhB2",
        "outputId": "3cafd6cd-a044-45ce-e879-ffc87ae316a5"
      },
      "outputs": [
        {
          "output_type": "stream",
          "name": "stdout",
          "text": [
            "Ingrese la semilla: 1\n",
            "\n",
            "Seleccione una opción (1-6) o 7 para salir: 7\n",
            "Gracias por usar este software. ¡Hasta luego!\n"
          ]
        }
      ],
      "source": [
        "import random\n",
        "\n",
        "class GeneradorPseudoAleatorio:\n",
        "    def __init__(self, semilla):\n",
        "        if not isinstance(semilla, int) or semilla < 0:\n",
        "            raise ValueError(\"La semilla debe ser un número entero positivo.\")\n",
        "        self.semilla = semilla\n",
        "        random.seed(semilla)\n",
        "\n",
        "    def cuadrados_medios(self, cantidad_n):\n",
        "        if cantidad_n <= 0:\n",
        "            raise ValueError(\"La cantidad de números a generar debe ser positiva.\")\n",
        "\n",
        "        valor = self.semilla\n",
        "        resultados = []\n",
        "        longitud = len(str(valor))\n",
        "\n",
        "        for _ in range(cantidad_n):\n",
        "            cuadrado = str(valor ** 2).zfill(longitud * 2)\n",
        "            medio = cuadrado[len(cuadrado)//2 - longitud//2:len(cuadrado)//2 + longitud//2]\n",
        "            valor = int(medio) if medio.isdigit() else self.semilla\n",
        "            resultados.append(medio)\n",
        "\n",
        "        return resultados\n",
        "\n",
        "    def productos_medios(self, cantidad_n, semilla_2):\n",
        "        if cantidad_n <= 0 or semilla_2 <= 0:\n",
        "            raise ValueError(\"La cantidad de números y la segunda semilla deben ser positivos.\")\n",
        "\n",
        "        valor1, valor2 = self.semilla, semilla_2\n",
        "        resultados = []\n",
        "        longitud = len(str(valor1))\n",
        "\n",
        "        for _ in range(cantidad_n):\n",
        "            producto = str(valor1 * valor2).zfill(longitud * 2)\n",
        "            medio = producto[len(producto)//2 - longitud//2:len(producto)//2 + longitud//2]\n",
        "            valor1, valor2 = valor2, int(medio) if medio.isdigit() else self.semilla\n",
        "            resultados.append(medio)\n",
        "\n",
        "        return resultados\n",
        "\n",
        "    def multiplicador_constante(self, cantidad_n, constante):\n",
        "        if cantidad_n <= 0 or constante <= 0:\n",
        "            raise ValueError(\"La cantidad de números y la constante deben ser positivos.\")\n",
        "\n",
        "        valor = self.semilla\n",
        "        resultados = []\n",
        "        longitud = len(str(valor))\n",
        "\n",
        "        for _ in range(cantidad_n):\n",
        "            producto = str(valor * constante).zfill(longitud * 2)\n",
        "            medio = producto[len(producto)//2 - longitud//2:len(producto)//2 + longitud//2]\n",
        "            valor = int(medio) if medio.isdigit() else self.semilla\n",
        "            resultados.append(medio)\n",
        "\n",
        "        return resultados\n",
        "\n",
        "    def congruencial_mixto(self, cantidad_n, a, c, m):\n",
        "        if cantidad_n <= 0 or a <= 0 or c < 0 or m <= 0:\n",
        "            raise ValueError(\"Los parámetros deben ser positivos.\")\n",
        "\n",
        "        valor = self.semilla\n",
        "        resultados = [(a * valor + c) % m for _ in range(cantidad_n)]\n",
        "\n",
        "        return resultados\n",
        "\n",
        "    def congruencial_multiplicativo(self, cantidad_n, a, m):\n",
        "        if cantidad_n <= 0 or a <= 0 or m <= 0:\n",
        "            raise ValueError(\"Los parámetros deben ser positivos.\")\n",
        "\n",
        "        valor = self.semilla\n",
        "        resultados = [(a * valor) % m for _ in range(cantidad_n)]\n",
        "\n",
        "        return resultados\n",
        "\n",
        "    def congruencial_aditivo(self, cantidad_n, semillas, m):\n",
        "        if cantidad_n <= 0 or m <= 0:\n",
        "            raise ValueError(\"La cantidad de números y el módulo deben ser positivos.\")\n",
        "        if not all(isinstance(s, int) and s > 0 for s in semillas):\n",
        "            raise ValueError(\"Todas las semillas deben ser enteros positivos.\")\n",
        "\n",
        "        resultados = semillas[:]\n",
        "        for _ in range(cantidad_n):\n",
        "            nuevo = (resultados[-1] + resultados[-len(semillas)]) % m\n",
        "            resultados.append(nuevo)\n",
        "\n",
        "        return resultados[len(semillas):]\n",
        "\n",
        "def main():\n",
        "    generador = GeneradorPseudoAleatorio(int(input(\"Ingrese la semilla: \")))\n",
        "\n",
        "    opciones = {\n",
        "        '1': generador.cuadrados_medios,\n",
        "        '2': lambda n: generador.productos_medios(n, int(input(\"Ingrese la segunda semilla: \"))),\n",
        "        '3': lambda n: generador.multiplicador_constante(n, int(input(\"Ingrese la constante: \"))),\n",
        "        '4': lambda n: generador.congruencial_mixto(n, int(input(\"a: \")), int(input(\"c: \")), int(input(\"m: \"))),\n",
        "        '5': lambda n: generador.congruencial_multiplicativo(n, int(input(\"a: \")), int(input(\"m: \"))),\n",
        "        '6': lambda n: generador.congruencial_aditivo(n, [int(input(f\"Valor {i+1}: \")) for i in range(int(input(\"Cantidad de valores iniciales: \" )))], int(input(\"m: \")))\n",
        "    }\n",
        "\n",
        "    while (opcion := input(\"\\nSeleccione una opción (1-6) o 7 para salir: \")) != '7':\n",
        "        if opcion in opciones:\n",
        "            try:\n",
        "                cantidad = int(input(\"Cantidad de números a generar: \"))\n",
        "                print(opciones[opcion](cantidad))\n",
        "            except ValueError as e:\n",
        "                print(f\"Error: {e}\")\n",
        "        else:\n",
        "            print(\"Opción inválida.\")\n",
        "\n",
        "    print(\"Gracias por visitar este software. ¡Hasta luego!\")\n",
        "\n",
        "if __name__ == \"__main__\":\n",
        "    main()\n"
      ]
    }
  ]
}